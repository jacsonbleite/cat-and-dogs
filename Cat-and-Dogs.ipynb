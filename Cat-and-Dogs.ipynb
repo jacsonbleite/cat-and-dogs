{
 "cells": [
  {
   "cell_type": "code",
   "execution_count": null,
   "id": "59b800f6",
   "metadata": {},
   "outputs": [],
   "source": [
    "!pip install tensorflow"
   ]
  },
  {
   "cell_type": "code",
   "execution_count": null,
   "id": "9bbd091a",
   "metadata": {},
   "outputs": [],
   "source": [
    "import os\n",
    "import matplotlib.pyplot as plt\n",
    "import tensorflow as tf"
   ]
  },
  {
   "cell_type": "code",
   "execution_count": null,
   "id": "a1299d33",
   "metadata": {},
   "outputs": [],
   "source": [
    "dataset_dir = os.path.join(os.getcwd(), 'cats_and_dogs_filtered')\n",
    "\n",
    "dataset_train_dir = os.path.join(dataset_dir, 'train')\n",
    "dataset_train_cats_len = len(os.listdir(os.path.join(dataset_train_dir, 'cats')))\n",
    "dataset_train_dogs_len = len(os.listdir(os.path.join(dataset_train_dir, 'dogs')))\n",
    "\n",
    "dataset_validation_dir = os.path.join(dataset_dir, 'validation')\n",
    "dataset_validation_cats_len = len(os.listdir(os.path.join(dataset_validation_dir, 'cats')))\n",
    "dataset_validation_dogs_len = len(os.listdir(os.path.join(dataset_validation_dir, 'dogs')))\n",
    "\n",
    "print('Train Cats: %s' % dataset_train_cats_len)\n",
    "print('Train Dogs: %s' % dataset_train_dogs_len)\n",
    "print('Validation Cats: %s' % dataset_validation_cats_len)\n",
    "print('Validation Dogs: %s' % dataset_validation_dogs_len)"
   ]
  },
  {
   "cell_type": "code",
   "execution_count": null,
   "id": "f94d11e8",
   "metadata": {},
   "outputs": [],
   "source": [
    "#Padronizando imagens para o mesmo tamanho 160x160 (scale)\n",
    "image_width = 160\n",
    "image_height = 160\n",
    "image_color_channel = 3\n",
    "image_color_channel_size = 255\n",
    "image_size = (image_width, image_height)\n",
    "image_shape = image_size + (image_color_channel,)\n",
    "\n",
    "batch_size = 32 #quantidade de feature que será trazida por vez do dataset\n",
    "epochs = 20 #número de vezes que passaremos pelo dataset\n",
    "learning_rate = 0.0001 #taxa de aprendizagem\n",
    "\n",
    "class_names = ['cat', 'dog']"
   ]
  },
  {
   "cell_type": "code",
   "execution_count": null,
   "id": "5206d922",
   "metadata": {},
   "outputs": [],
   "source": [
    "# dataset de trainamento\n",
    "dataset_train = tf.keras.preprocessing.image_dataset_from_directory(\n",
    "    dataset_train_dir,\n",
    "    image_size = image_size,\n",
    "    batch_size = batch_size,\n",
    "    shuffle = True\n",
    ")"
   ]
  },
  {
   "cell_type": "code",
   "execution_count": null,
   "id": "3b0d159e",
   "metadata": {},
   "outputs": [],
   "source": [
    "# dataset de validação\n",
    "dataset_validation = tf.keras.preprocessing.image_dataset_from_directory(\n",
    "    dataset_validation_dir,\n",
    "    image_size = (image_width, image_height),\n",
    "    batch_size = batch_size,\n",
    "    shuffle = True\n",
    ")"
   ]
  },
  {
   "cell_type": "code",
   "execution_count": null,
   "id": "67e8cb6a",
   "metadata": {},
   "outputs": [],
   "source": [
    "# dataset de teste a partir do dataset de validação\n",
    "dataset_validation_cardinality = tf.data.experimental.cardinality(dataset_validation)\n",
    "dataset_validation_batches = dataset_validation_cardinality // 5\n",
    "\n",
    "dataset_test = dataset_validation.take(dataset_validation_batches)\n",
    "dataset_validation = dataset_validation.skip(dataset_validation_batches)\n",
    "\n",
    "print('Validation Dataset Cardinality: %d' % tf.data.experimental.cardinality(dataset_validation))\n",
    "print('Test Dataset Cardinality: %d' % tf.data.experimental.cardinality(dataset_test))"
   ]
  },
  {
   "cell_type": "code",
   "execution_count": null,
   "id": "d6b6bd79",
   "metadata": {},
   "outputs": [],
   "source": [
    "autotune = tf.data.AUTOTUNE\n",
    "\n",
    "dataset_train = dataset_train.prefetch(buffer_size = autotune)\n",
    "dataset_validation = dataset_validation.prefetch(buffer_size = autotune)\n",
    "dataset_test = dataset_validation.prefetch(buffer_size = autotune)"
   ]
  },
  {
   "cell_type": "code",
   "execution_count": null,
   "id": "30c36213",
   "metadata": {},
   "outputs": [],
   "source": [
    "#Plotar imagens do datase\n",
    "def plot_dataset(dataset):\n",
    "\n",
    "    plt.gcf().clear()\n",
    "    plt.figure(figsize = (15, 15))\n",
    "\n",
    "    for features, labels in dataset.take(1):\n",
    "\n",
    "        for i in range(9):\n",
    "\n",
    "            plt.subplot(3, 3, i + 1)\n",
    "            plt.axis('off')\n",
    "\n",
    "            plt.imshow(features[i].numpy().astype('uint8'))\n",
    "            plt.title(class_names[labels[i]])"
   ]
  },
  {
   "cell_type": "code",
   "execution_count": null,
   "id": "a177763c",
   "metadata": {},
   "outputs": [],
   "source": [
    "plot_dataset(dataset_train)"
   ]
  },
  {
   "cell_type": "code",
   "execution_count": null,
   "id": "a1aabbdf",
   "metadata": {},
   "outputs": [],
   "source": [
    "data_augmentation = tf.keras.models.Sequential([\n",
    "    tf.keras.layers.experimental.preprocessing.RandomFlip('horizontal'),\n",
    "    tf.keras.layers.experimental.preprocessing.RandomRotation(0.2),\n",
    "    tf.keras.layers.experimental.preprocessing.RandomZoom(0.2)\n",
    "])"
   ]
  },
  {
   "cell_type": "code",
   "execution_count": null,
   "id": "7aa5faf8",
   "metadata": {},
   "outputs": [],
   "source": [
    "def plot_dataset_data_augmentation(dataset):\n",
    "\n",
    "    plt.gcf().clear()\n",
    "    plt.figure(figsize = (15, 15))\n",
    "\n",
    "    for features, _ in dataset.take(1):\n",
    "\n",
    "        feature = features[0]\n",
    "\n",
    "        for i in range(9):\n",
    "\n",
    "            feature_data_augmentation = data_augmentation(tf.expand_dims(feature, 0))\n",
    "\n",
    "            plt.subplot(3, 3, i + 1)\n",
    "            plt.axis('off')\n",
    "\n",
    "            plt.imshow(feature_data_augmentation[0] / image_color_channel_size)"
   ]
  },
  {
   "cell_type": "code",
   "execution_count": null,
   "id": "190fb548",
   "metadata": {},
   "outputs": [],
   "source": [
    "plot_dataset_data_augmentation(dataset_train)"
   ]
  },
  {
   "cell_type": "code",
   "execution_count": null,
   "id": "398bb1ae",
   "metadata": {},
   "outputs": [],
   "source": [
    "# Layer rescaling\n",
    "ng = tf.keras.layers.experimental.preprocessing.Rescaling(1. / (image_color_channel_size / 2.), offset = -1, input_shape = image_shape)"
   ]
  },
  {
   "cell_type": "code",
   "execution_count": null,
   "id": "d4dfebfe",
   "metadata": {},
   "outputs": [],
   "source": [
    "# transfer Learning\n",
    "model_transfer_learning = tf.keras.applications.MobileNetV2(input_shape = image_shape, include_top = False, weights = 'imagenet')\n",
    "model_transfer_learning.trainable = False\n",
    "\n",
    "model_transfer_learning.summary()"
   ]
  },
  {
   "cell_type": "code",
   "execution_count": null,
   "id": "d855507b",
   "metadata": {},
   "outputs": [],
   "source": [
    "# Early Stopping\n",
    "early_stopping = tf.keras.callbacks.EarlyStopping(monitor = 'loss', patience = 3)"
   ]
  },
  {
   "cell_type": "code",
   "execution_count": null,
   "id": "e87c7e7f",
   "metadata": {},
   "outputs": [],
   "source": [
    "# Model\n",
    "model = tf.keras.models.Sequential([\n",
    "    rescaling,\n",
    "    data_augmentation,\n",
    "    model_transfer_learning,\n",
    "    tf.keras.layers.GlobalAveragePooling2D(),\n",
    "    tf.keras.layers.Dropout(0.2),\n",
    "    tf.keras.layers.Dense(1, activation = 'sigmoid')\n",
    "])\n",
    "\n",
    "model.compile(\n",
    "    optimizer = tf.keras.optimizers.Adam(learning_rate = learning_rate),\n",
    "    loss = tf.keras.losses.BinaryCrossentropy(),\n",
    "    metrics = ['accuracy']\n",
    ")\n",
    "\n",
    "model.summary()"
   ]
  },
  {
   "cell_type": "code",
   "execution_count": null,
   "id": "d185daaa",
   "metadata": {},
   "outputs": [],
   "source": [
    "# Training\n",
    "history = model.fit(\n",
    "    dataset_train,\n",
    "    validation_data = dataset_validation,\n",
    "    epochs = epochs,\n",
    "    callbacks = [\n",
    "        early_stopping\n",
    "    ]\n",
    ")"
   ]
  },
  {
   "cell_type": "code",
   "execution_count": null,
   "id": "b572d8e9",
   "metadata": {},
   "outputs": [],
   "source": [
    "def plot_model():\n",
    "\n",
    "    accuracy = history.history['accuracy']\n",
    "    val_accuracy = history.history['val_accuracy']\n",
    "\n",
    "    loss = history.history['loss']\n",
    "    val_loss = history.history['val_loss']\n",
    "\n",
    "    epochs_range = range(epochs)\n",
    "\n",
    "    plt.gcf().clear()\n",
    "    plt.figure(figsize = (15, 8))\n",
    "\n",
    "    plt.subplot(1, 2, 1)\n",
    "    plt.title('Training and Validation Accuracy')\n",
    "    plt.plot(epochs_range, accuracy, label = 'Training Accuracy')\n",
    "    plt.plot(epochs_range, val_accuracy, label = 'Validation Accuracy')\n",
    "    plt.legend(loc = 'lower right')\n",
    "\n",
    "    plt.subplot(1, 2, 2)\n",
    "    plt.title('Training and Validation Loss')\n",
    "    plt.plot(epochs_range, loss, label = 'Training Loss')\n",
    "    plt.plot(epochs_range, val_loss, label = 'Validation Loss')\n",
    "    plt.legend(loc = 'lower right')\n",
    "\n",
    "    plt.show()"
   ]
  },
  {
   "cell_type": "code",
   "execution_count": null,
   "id": "38209ae4",
   "metadata": {},
   "outputs": [],
   "source": [
    "plot_model()"
   ]
  },
  {
   "cell_type": "code",
   "execution_count": null,
   "id": "a7b797c6",
   "metadata": {},
   "outputs": [],
   "source": [
    "# Model Evaluation\n",
    "dataset_test_loss, dataset_test_accuracy = model.evaluate(dataset_test)\n",
    "\n",
    "print('Dataset Test Loss:     %s' % dataset_test_loss)\n",
    "print('Dataset Test Accuracy: %s' % dataset_test_accuracy)"
   ]
  },
  {
   "cell_type": "code",
   "execution_count": null,
   "id": "6319b39a",
   "metadata": {},
   "outputs": [],
   "source": [
    "# Trainign - new Dataset\n",
    "def plot_dataset_predictions(dataset):\n",
    "\n",
    "    features, labels = dataset_test.as_numpy_iterator().next()\n",
    "\n",
    "    predictions = model.predict_on_batch(features).flatten()\n",
    "    predictions = tf.where(predictions < 0.5, 0, 1)\n",
    "\n",
    "    print('Labels:      %s' % labels)\n",
    "    print('Predictions: %s' % predictions.numpy())\n",
    "\n",
    "    plt.gcf().clear()\n",
    "    plt.figure(figsize = (15, 15))\n",
    "\n",
    "    for i in range(9):\n",
    "\n",
    "        plt.subplot(3, 3, i + 1)\n",
    "        plt.axis('off')\n",
    "\n",
    "        plt.imshow(features[i].astype('uint8'))\n",
    "        plt.title(class_names[predictions[i]])"
   ]
  },
  {
   "cell_type": "code",
   "execution_count": null,
   "id": "b34f0d22",
   "metadata": {},
   "outputs": [],
   "source": [
    "plot_dataset_predictions(dataset_test)"
   ]
  }
 ],
 "metadata": {
  "kernelspec": {
   "display_name": "Python 3 (ipykernel)",
   "language": "python",
   "name": "python3"
  },
  "language_info": {
   "codemirror_mode": {
    "name": "ipython",
    "version": 3
   },
   "file_extension": ".py",
   "mimetype": "text/x-python",
   "name": "python",
   "nbconvert_exporter": "python",
   "pygments_lexer": "ipython3",
   "version": "3.8.10"
  }
 },
 "nbformat": 4,
 "nbformat_minor": 5
}
